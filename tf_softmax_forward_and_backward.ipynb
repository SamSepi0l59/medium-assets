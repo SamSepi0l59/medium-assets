{
  "nbformat": 4,
  "nbformat_minor": 0,
  "metadata": {
    "colab": {
      "name": "tf_softmax_forward_and_backward.ipynb",
      "provenance": [],
      "include_colab_link": true
    },
    "kernelspec": {
      "name": "python3",
      "display_name": "Python 3"
    }
  },
  "cells": [
    {
      "cell_type": "markdown",
      "metadata": {
        "id": "view-in-github",
        "colab_type": "text"
      },
      "source": [
        "<a href=\"https://colab.research.google.com/github/SamSepi0l59/medium-assets/blob/master/tf_softmax_forward_and_backward.ipynb\" target=\"_parent\"><img src=\"https://colab.research.google.com/assets/colab-badge.svg\" alt=\"Open In Colab\"/></a>"
      ]
    },
    {
      "cell_type": "code",
      "metadata": {
        "id": "IXy6f1OtAKXa",
        "colab_type": "code",
        "colab": {}
      },
      "source": [
        "import tensorflow as tf\n",
        "import numpy as np"
      ],
      "execution_count": 0,
      "outputs": []
    },
    {
      "cell_type": "code",
      "metadata": {
        "id": "EKJt_3m1AS2L",
        "colab_type": "code",
        "outputId": "7ef0e535-a133-4e7d-a78f-f9b2a98b22cc",
        "colab": {
          "base_uri": "https://localhost:8080/",
          "height": 33
        }
      },
      "source": [
        "seed=7\n",
        "np.random.seed(seed)\n",
        "a=tf.Variable(np.random.uniform(0.0,2.0,size=(1,4)))\n",
        "print(a)"
      ],
      "execution_count": 0,
      "outputs": [
        {
          "output_type": "stream",
          "text": [
            "<tf.Variable 'Variable_1:0' shape=(1, 4) dtype=float64_ref>\n"
          ],
          "name": "stdout"
        }
      ]
    },
    {
      "cell_type": "code",
      "metadata": {
        "id": "JPyjVAwkAv9F",
        "colab_type": "code",
        "colab": {}
      },
      "source": [
        "s=tf.nn.softmax(a,axis=-1,name='sfmax')\n",
        "#l=tf.losses.mean_squared_error(tf.Variable([[0.0,1.0,0.0,0.0,0.0]]),s)\n",
        "#s=tf.nn.sigmoid(a)"
      ],
      "execution_count": 0,
      "outputs": []
    },
    {
      "cell_type": "code",
      "metadata": {
        "id": "CQPeMqinCGQO",
        "colab_type": "code",
        "colab": {}
      },
      "source": [
        "#grad=tf.gradients(s[:,0],a)\n",
        "grads=tf.empty()\n",
        "grads = tf.stack([tf.gradients(yi, a)[0] for yi in tf.unstack(s, axis=0)],\n",
        "                     axis=1)"
      ],
      "execution_count": 0,
      "outputs": []
    },
    {
      "cell_type": "code",
      "metadata": {
        "id": "CqyXT5yCA-Xy",
        "colab_type": "code",
        "colab": {}
      },
      "source": [
        "sess=tf.Session()\n",
        "sess.run(tf.global_variables_initializer())"
      ],
      "execution_count": 0,
      "outputs": []
    },
    {
      "cell_type": "code",
      "metadata": {
        "id": "K11KLDY6B2Ae",
        "colab_type": "code",
        "outputId": "819f683b-a70c-43e7-fb70-21efae67e0c7",
        "colab": {
          "base_uri": "https://localhost:8080/",
          "height": 66
        }
      },
      "source": [
        "print('ip:',sess.run(a))\n",
        "print('op:',sess.run(s))\n",
        "print('grad:',sess.run(grad))"
      ],
      "execution_count": 0,
      "outputs": [
        {
          "output_type": "stream",
          "text": [
            "ip: [[0.15261658 1.55983758 0.87681846 1.44693036]]\n",
            "op: [[0.09262549 0.37833703 0.19109416 0.33794332]]\n",
            "grad: [array([[ 0.08404601, -0.03504365, -0.01770019, -0.03130217]])]\n"
          ],
          "name": "stdout"
        }
      ]
    }
  ]
}