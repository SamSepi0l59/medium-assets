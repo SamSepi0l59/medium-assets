{
  "nbformat": 4,
  "nbformat_minor": 0,
  "metadata": {
    "colab": {
      "name": "torch_softmax_forward_and _backward.ipynb",
      "provenance": [],
      "include_colab_link": true
    },
    "kernelspec": {
      "name": "python3",
      "display_name": "Python 3"
    }
  },
  "cells": [
    {
      "cell_type": "markdown",
      "metadata": {
        "id": "view-in-github",
        "colab_type": "text"
      },
      "source": [
        "<a href=\"https://colab.research.google.com/github/SamSepi0l59/medium-assets/blob/master/torch_softmax_forward_and__backward.ipynb\" target=\"_parent\"><img src=\"https://colab.research.google.com/assets/colab-badge.svg\" alt=\"Open In Colab\"/></a>"
      ]
    },
    {
      "cell_type": "code",
      "metadata": {
        "id": "2aQ99Mf97mJa",
        "colab_type": "code",
        "colab": {}
      },
      "source": [
        "import torch\n",
        "import numpy as np"
      ],
      "execution_count": 0,
      "outputs": []
    },
    {
      "cell_type": "code",
      "metadata": {
        "id": "pHAMPfWf9UIJ",
        "colab_type": "code",
        "outputId": "d1437e59-cb8a-4cea-e405-47329fbefc16",
        "colab": {
          "base_uri": "https://localhost:8080/",
          "height": 33
        }
      },
      "source": [
        "seed=7\n",
        "torch.random.manual_seed(seed)\n",
        "np.random.seed(seed)\n",
        "print('random seed:',seed)"
      ],
      "execution_count": 0,
      "outputs": [
        {
          "output_type": "stream",
          "text": [
            "random seed: 7\n"
          ],
          "name": "stdout"
        }
      ]
    },
    {
      "cell_type": "code",
      "metadata": {
        "id": "bNqer8Uk7zCk",
        "colab_type": "code",
        "outputId": "2280fee3-daac-46ee-d747-999a11b7af04",
        "colab": {
          "base_uri": "https://localhost:8080/",
          "height": 33
        }
      },
      "source": [
        "a=torch.from_numpy(np.random.uniform(low=0.0,high=2.0,size=(3,)))\n",
        "a.requires_grad_(True)\n",
        "print(a)"
      ],
      "execution_count": 0,
      "outputs": [
        {
          "output_type": "stream",
          "text": [
            "tensor([0.1526, 1.5598, 0.8768], dtype=torch.float64, requires_grad=True)\n"
          ],
          "name": "stdout"
        }
      ]
    },
    {
      "cell_type": "code",
      "metadata": {
        "id": "ye36jGTC9X4v",
        "colab_type": "code",
        "outputId": "ee2a1fdb-507b-45c9-eae6-29f271266b69",
        "colab": {
          "base_uri": "https://localhost:8080/",
          "height": 50
        }
      },
      "source": [
        "s=torch.nn.functional.softmax(a,dim=-1)\n",
        "#s=torch.sigmoid(a)\n",
        "print('outputs:',s)"
      ],
      "execution_count": 0,
      "outputs": [
        {
          "output_type": "stream",
          "text": [
            "outputs: tensor([0.1399, 0.5715, 0.2886], dtype=torch.float64,\n",
            "       grad_fn=<SoftmaxBackward>)\n"
          ],
          "name": "stdout"
        }
      ]
    },
    {
      "cell_type": "code",
      "metadata": {
        "id": "qb-ufh-EcHJS",
        "colab_type": "code",
        "colab": {}
      },
      "source": [
        "jb=np.empty(shape=(a.shape[0],a.shape[0]))"
      ],
      "execution_count": 0,
      "outputs": []
    },
    {
      "cell_type": "code",
      "metadata": {
        "id": "8PH7xt0hcNCV",
        "colab_type": "code",
        "outputId": "9969a284-ebea-4a35-ea01-fa9643cff552",
        "colab": {
          "base_uri": "https://localhost:8080/",
          "height": 66
        }
      },
      "source": [
        "for i in range(a.shape[0]):\n",
        "  print(s[i],torch.autograd.grad(outputs = s[i], inputs = a,grad_outputs=torch.ones_like(a)[0],retain_graph=True)[0])\n",
        "  jb[i]=torch.autograd.grad(outputs = s[i], inputs = a,grad_outputs=torch.ones_like(a)[0],retain_graph=True)[0]"
      ],
      "execution_count": 0,
      "outputs": [
        {
          "output_type": "stream",
          "text": [
            "tensor(0.1399, dtype=torch.float64, grad_fn=<SelectBackward>) tensor([ 0.1203, -0.0800, -0.0404], dtype=torch.float64)\n",
            "tensor(0.5715, dtype=torch.float64, grad_fn=<SelectBackward>) tensor([-0.0800,  0.2449, -0.1649], dtype=torch.float64)\n",
            "tensor(0.2886, dtype=torch.float64, grad_fn=<SelectBackward>) tensor([-0.0404, -0.1649,  0.2053], dtype=torch.float64)\n"
          ],
          "name": "stdout"
        }
      ]
    },
    {
      "cell_type": "code",
      "metadata": {
        "id": "2SQUAcTscU5k",
        "colab_type": "code",
        "outputId": "df355ed4-a983-4d3c-888c-181f88bb0301",
        "colab": {
          "base_uri": "https://localhost:8080/",
          "height": 66
        }
      },
      "source": [
        "jb"
      ],
      "execution_count": 0,
      "outputs": [
        {
          "output_type": "execute_result",
          "data": {
            "text/plain": [
              "array([[ 0.12033208, -0.0799501 , -0.04038198],\n",
              "       [-0.0799501 ,  0.24489387, -0.16494377],\n",
              "       [-0.04038198, -0.16494377,  0.20532575]])"
            ]
          },
          "metadata": {
            "tags": []
          },
          "execution_count": 79
        }
      ]
    },
    {
      "cell_type": "code",
      "metadata": {
        "id": "DHC_zzFvdp4r",
        "colab_type": "code",
        "colab": {}
      },
      "source": [
        "'''\n",
        "assert(a.grad==None)\n",
        "#s.backward(a) \n",
        "bak=torch.autograd.backward(tensors=s[0],grad_tensors=torch.ones_like(a)[0])\n",
        "print('backs:',a.grad)\n",
        "\n",
        "grads=torch.autograd.grad(outputs = s[0], inputs = a,grad_outputs=torch.ones_like(a)[0],retain_graph=True)\n",
        "print('grads:',grads,grads[0].shape)\n",
        "'''"
      ],
      "execution_count": 0,
      "outputs": []
    }
  ]
}
